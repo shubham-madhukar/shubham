{
  "nbformat": 4,
  "nbformat_minor": 0,
  "metadata": {
    "colab": {
      "provenance": [],
      "authorship_tag": "ABX9TyOk02AxppKaaXvCvcqhVB7H",
      "include_colab_link": true
    },
    "kernelspec": {
      "name": "python3",
      "display_name": "Python 3"
    },
    "language_info": {
      "name": "python"
    }
  },
  "cells": [
    {
      "cell_type": "markdown",
      "metadata": {
        "id": "view-in-github",
        "colab_type": "text"
      },
      "source": [
        "<a href=\"https://colab.research.google.com/github/shubham-madhukar/shubham/blob/main/data_imputation_.ipynb\" target=\"_parent\"><img src=\"https://colab.research.google.com/assets/colab-badge.svg\" alt=\"Open In Colab\"/></a>"
      ]
    },
    {
      "cell_type": "markdown",
      "source": [
        "MEAN/MEADIAN/MODE\n"
      ],
      "metadata": {
        "id": "TQkE8JOVWJnU"
      }
    },
    {
      "cell_type": "code",
      "execution_count": 1,
      "metadata": {
        "colab": {
          "base_uri": "https://localhost:8080/"
        },
        "id": "T4ww8FMqVl6E",
        "outputId": "b19dce7f-a838-4c56-fc97-dd04784fff2c"
      },
      "outputs": [
        {
          "output_type": "stream",
          "name": "stdout",
          "text": [
            "   PatientID  BloodPressure  BloodPressure_mean  BloodPressure_median  \\\n",
            "0          1          120.0               120.0                 120.0   \n",
            "1          2          130.0               130.0                 130.0   \n",
            "2          3            NaN               130.0                 130.0   \n",
            "3          4          140.0               140.0                 140.0   \n",
            "4          5            NaN               130.0                 130.0   \n",
            "\n",
            "   BloodPressure_mode  \n",
            "0               120.0  \n",
            "1               130.0  \n",
            "2               120.0  \n",
            "3               140.0  \n",
            "4               120.0  \n"
          ]
        }
      ],
      "source": [
        "import pandas as pd\n",
        "import numpy as np\n",
        "\n",
        "# Sample DataFrame with missing values\n",
        "data = {\n",
        "    'PatientID': [1, 2, 3, 4, 5],\n",
        "    'BloodPressure': [120, 130, np.nan, 140, np.nan]\n",
        "}\n",
        "df = pd.DataFrame(data)\n",
        "\n",
        "# Mean Imputation\n",
        "df['BloodPressure_mean'] = df['BloodPressure'].fillna(df['BloodPressure'].mean())\n",
        "\n",
        "# Median Imputation\n",
        "df['BloodPressure_median'] = df['BloodPressure'].fillna(df['BloodPressure'].median())\n",
        "\n",
        "# Mode Imputation\n",
        "df['BloodPressure_mode'] = df['BloodPressure'].fillna(df['BloodPressure'].mode()[0])\n",
        "\n",
        "print(df)\n"
      ]
    },
    {
      "cell_type": "markdown",
      "source": [
        " Forward/Backward Fill Imputation\n",
        ""
      ],
      "metadata": {
        "id": "u0MvkQLxXeYN"
      }
    },
    {
      "cell_type": "code",
      "source": [
        "# Sample DataFrame with missing values\n",
        "data = {\n",
        "    'Date': pd.date_range(start='2023-01-01', periods=5, freq='D'),\n",
        "    'Temperature': [30, np.nan, 25, np.nan, 28]\n",
        "}\n",
        "df = pd.DataFrame(data)\n",
        "\n",
        "# Forward Fill Imputation\n",
        "df['Temperature_ffill'] = df['Temperature'].ffill()\n",
        "\n",
        "# Backward Fill Imputation\n",
        "df['Temperature_bfill'] = df['Temperature'].bfill()\n",
        "\n",
        "print(df)\n"
      ],
      "metadata": {
        "colab": {
          "base_uri": "https://localhost:8080/"
        },
        "id": "DCH9YkMHW-bQ",
        "outputId": "dafd5cc1-17b7-492f-f6d5-ba9f2caef08e"
      },
      "execution_count": 2,
      "outputs": [
        {
          "output_type": "stream",
          "name": "stdout",
          "text": [
            "        Date  Temperature  Temperature_ffill  Temperature_bfill\n",
            "0 2023-01-01         30.0               30.0               30.0\n",
            "1 2023-01-02          NaN               30.0               25.0\n",
            "2 2023-01-03         25.0               25.0               25.0\n",
            "3 2023-01-04          NaN               25.0               28.0\n",
            "4 2023-01-05         28.0               28.0               28.0\n"
          ]
        }
      ]
    },
    {
      "cell_type": "markdown",
      "source": [
        "K-Nearest Neighbors (KNN) Imputation"
      ],
      "metadata": {
        "id": "gjVGGEvtXnYW"
      }
    },
    {
      "cell_type": "code",
      "source": [
        "from sklearn.impute import KNNImputer\n",
        "\n",
        "# Sample DataFrame with missing values\n",
        "data = {\n",
        "    'Feature1': [1, 2, np.nan, 4, 5],\n",
        "    'Feature2': [5, 4, 3, np.nan, 1],\n",
        "    'Feature3': [2, 3, 4, 5, np.nan]\n",
        "}\n",
        "df = pd.DataFrame(data)\n",
        "\n",
        "# KNN Imputer\n",
        "imputer = KNNImputer(n_neighbors=2)\n",
        "df_imputed = pd.DataFrame(imputer.fit_transform(df), columns=df.columns)\n",
        "\n",
        "print(df_imputed)\n"
      ],
      "metadata": {
        "colab": {
          "base_uri": "https://localhost:8080/"
        },
        "id": "vcfIy3SVXTLB",
        "outputId": "d1eb35ed-c1ee-49ae-c9fb-12392f4c8871"
      },
      "execution_count": 3,
      "outputs": [
        {
          "output_type": "stream",
          "name": "stdout",
          "text": [
            "   Feature1  Feature2  Feature3\n",
            "0       1.0       5.0       2.0\n",
            "1       2.0       4.0       3.0\n",
            "2       3.0       3.0       4.0\n",
            "3       4.0       2.0       5.0\n",
            "4       5.0       1.0       4.5\n"
          ]
        }
      ]
    },
    {
      "cell_type": "markdown",
      "source": [
        "Multivariate Imputation by Chained Equations (MICE)"
      ],
      "metadata": {
        "id": "4x9V4up4r4E4"
      }
    },
    {
      "cell_type": "code",
      "source": [
        "import pandas as pd\n",
        "import numpy as np\n",
        "from sklearn.experimental import enable_iterative_imputer\n",
        "from sklearn.impute import IterativeImputer\n",
        "\n",
        "# Sample DataFrame with missing values\n",
        "data = {\n",
        "    'Feature1': [1, 2, np.nan, 4, 5],\n",
        "    'Feature2': [5, 4, 3, np.nan, 1],\n",
        "    'Feature3': [2, 3, 4, 5, np.nan]\n",
        "}\n",
        "df = pd.DataFrame(data)\n",
        "\n",
        "# MICE Imputer\n",
        "imputer = IterativeImputer(max_iter=10, random_state=0)  # Initialize MICE imputer\n",
        "df_imputed = pd.DataFrame(imputer.fit_transform(df), columns=df.columns)  # Impute missing values\n",
        "\n",
        "print(df_imputed)"
      ],
      "metadata": {
        "colab": {
          "base_uri": "https://localhost:8080/"
        },
        "id": "lmXtA8FHrQ_l",
        "outputId": "fbab5788-86b2-4253-be21-16084207496e"
      },
      "execution_count": 5,
      "outputs": [
        {
          "output_type": "stream",
          "name": "stdout",
          "text": [
            "   Feature1  Feature2  Feature3\n",
            "0  1.000000  5.000000  2.000000\n",
            "1  2.000000  4.000000  3.000000\n",
            "2  3.000052  3.000000  4.000000\n",
            "3  4.000000  2.000122  5.000000\n",
            "4  5.000000  1.000000  6.000047\n"
          ]
        }
      ]
    },
    {
      "cell_type": "markdown",
      "source": [
        "Predictive Modeling Imputation"
      ],
      "metadata": {
        "id": "k5cCnV9dsI7k"
      }
    },
    {
      "cell_type": "code",
      "source": [
        "from sklearn.ensemble import RandomForestRegressor\n",
        "\n",
        "# Sample DataFrame with missing values\n",
        "data = {\n",
        "    'Feature1': [1, 2, 3, 4, 5],\n",
        "    'Feature2': [5, 4, np.nan, 2, 1],\n",
        "    'Target': [10, 20, 30, 40, 50]\n",
        "}\n",
        "df = pd.DataFrame(data)\n",
        "\n",
        "# Separate the columns with missing data\n",
        "missing_data = df[df['Feature2'].isnull()]\n",
        "\n",
        "# Train a model on the available data\n",
        "train_data = df.dropna()\n",
        "X_train = train_data[['Feature1', 'Target']]\n",
        "y_train = train_data['Feature2']\n",
        "model = RandomForestRegressor()\n",
        "model.fit(X_train, y_train)\n",
        "\n",
        "# Predict the missing values\n",
        "X_missing = missing_data[['Feature1', 'Target']]\n",
        "df.loc[df['Feature2'].isnull(), 'Feature2'] = model.predict(X_missing)\n",
        "\n",
        "print(df)\n"
      ],
      "metadata": {
        "colab": {
          "base_uri": "https://localhost:8080/"
        },
        "id": "WpIrevg6royL",
        "outputId": "c7c24410-ed56-40ff-c63f-537126a285e0"
      },
      "execution_count": 6,
      "outputs": [
        {
          "output_type": "stream",
          "name": "stdout",
          "text": [
            "   Feature1  Feature2  Target\n",
            "0         1      5.00      10\n",
            "1         2      4.00      20\n",
            "2         3      3.52      30\n",
            "3         4      2.00      40\n",
            "4         5      1.00      50\n"
          ]
        }
      ]
    }
  ]
}